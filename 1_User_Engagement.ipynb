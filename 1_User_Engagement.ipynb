{
 "cells": [
  {
   "cell_type": "markdown",
   "id": "95135fd5-f079-4048-999d-db10c9a63139",
   "metadata": {},
   "source": [
    "# SaaSquatch Videos: Answering Specific Questions"
   ]
  },
  {
   "cell_type": "markdown",
   "id": "589fda86-1337-4f06-9c86-57fe3c0ec76a",
   "metadata": {},
   "source": [
    "#### In this notebook, I will use a merged dataframe (created in the last notebook) to answer questions about my chosen topic: \"User Engagement Factors for Dare Network\""
   ]
  },
  {
   "cell_type": "markdown",
   "id": "2ef6a7c3-f019-4b47-8c39-bc2072f72177",
   "metadata": {},
   "source": [
    "### 1. Import Libraries and Prepare Data\n",
    "### 2. "
   ]
  },
  {
   "cell_type": "code",
   "execution_count": 59,
   "id": "13d78522-ef10-4e8a-b1eb-c023630b9141",
   "metadata": {},
   "outputs": [],
   "source": [
    "#Import Libraries\n",
    "\n",
    "import pandas as pd\n",
    "import numpy as np\n",
    "import matplotlib.pyplot as plt\n",
    "import seaborn as sns\n",
    "import os\n",
    "import scipy\n",
    "from scipy import stats\n",
    "import matplotlib"
   ]
  },
  {
   "cell_type": "code",
   "execution_count": 60,
   "id": "5410edb5-930b-43fb-9937-3ed8f837dfc9",
   "metadata": {},
   "outputs": [],
   "source": [
    "#Set Path\n",
    "path = r'/Users/tristansavella/Project_B2CSAAS'"
   ]
  },
  {
   "cell_type": "code",
   "execution_count": 61,
   "id": "9d56d386-15a2-4f83-a450-7cee0e4347c6",
   "metadata": {},
   "outputs": [],
   "source": [
    "df = pd.read_csv(os.path.join(path, 'data', 'combined_videos_trials.csv'), index_col = False)"
   ]
  },
  {
   "cell_type": "code",
   "execution_count": 62,
   "id": "c3f18bb1-5a55-4cc5-8c51-407af8a1ee25",
   "metadata": {},
   "outputs": [
    {
     "data": {
      "text/html": [
       "<div>\n",
       "<style scoped>\n",
       "    .dataframe tbody tr th:only-of-type {\n",
       "        vertical-align: middle;\n",
       "    }\n",
       "\n",
       "    .dataframe tbody tr th {\n",
       "        vertical-align: top;\n",
       "    }\n",
       "\n",
       "    .dataframe thead th {\n",
       "        text-align: right;\n",
       "    }\n",
       "</style>\n",
       "<table border=\"1\" class=\"dataframe\">\n",
       "  <thead>\n",
       "    <tr style=\"text-align: right;\">\n",
       "      <th></th>\n",
       "      <th>email_key</th>\n",
       "      <th>interaction_date</th>\n",
       "      <th>video_brand</th>\n",
       "      <th>video_type</th>\n",
       "      <th>genre</th>\n",
       "      <th>watched_videos</th>\n",
       "      <th>has_converted</th>\n",
       "      <th>trial_brand</th>\n",
       "      <th>month_trial_end</th>\n",
       "      <th>month_interaction</th>\n",
       "    </tr>\n",
       "  </thead>\n",
       "  <tbody>\n",
       "    <tr>\n",
       "      <th>0</th>\n",
       "      <td>6a602ec029c1f56c720043c565fc4a3c</td>\n",
       "      <td>2023-12-02</td>\n",
       "      <td>playground prime</td>\n",
       "      <td>tv</td>\n",
       "      <td>comedy</td>\n",
       "      <td>4</td>\n",
       "      <td>False</td>\n",
       "      <td>playground prime</td>\n",
       "      <td>2023-12</td>\n",
       "      <td>2023-12</td>\n",
       "    </tr>\n",
       "    <tr>\n",
       "      <th>1</th>\n",
       "      <td>6a602ec029c1f56c720043c565fc4a3c</td>\n",
       "      <td>2023-12-02</td>\n",
       "      <td>playground prime</td>\n",
       "      <td>tv</td>\n",
       "      <td>documentary</td>\n",
       "      <td>1</td>\n",
       "      <td>False</td>\n",
       "      <td>playground prime</td>\n",
       "      <td>2023-12</td>\n",
       "      <td>2023-12</td>\n",
       "    </tr>\n",
       "    <tr>\n",
       "      <th>2</th>\n",
       "      <td>6a602ec029c1f56c720043c565fc4a3c</td>\n",
       "      <td>2023-12-02</td>\n",
       "      <td>playground prime</td>\n",
       "      <td>tv</td>\n",
       "      <td>family/kids</td>\n",
       "      <td>5</td>\n",
       "      <td>False</td>\n",
       "      <td>playground prime</td>\n",
       "      <td>2023-12</td>\n",
       "      <td>2023-12</td>\n",
       "    </tr>\n",
       "    <tr>\n",
       "      <th>3</th>\n",
       "      <td>6a602ec029c1f56c720043c565fc4a3c</td>\n",
       "      <td>2023-12-02</td>\n",
       "      <td>playground prime</td>\n",
       "      <td>tv</td>\n",
       "      <td>scifi</td>\n",
       "      <td>5</td>\n",
       "      <td>False</td>\n",
       "      <td>playground prime</td>\n",
       "      <td>2023-12</td>\n",
       "      <td>2023-12</td>\n",
       "    </tr>\n",
       "    <tr>\n",
       "      <th>4</th>\n",
       "      <td>6a602ec029c1f56c720043c565fc4a3c</td>\n",
       "      <td>2024-01-20</td>\n",
       "      <td>playground prime</td>\n",
       "      <td>tv</td>\n",
       "      <td>comedy</td>\n",
       "      <td>1</td>\n",
       "      <td>False</td>\n",
       "      <td>playground prime</td>\n",
       "      <td>2023-12</td>\n",
       "      <td>2024-01</td>\n",
       "    </tr>\n",
       "  </tbody>\n",
       "</table>\n",
       "</div>"
      ],
      "text/plain": [
       "                          email_key interaction_date       video_brand  \\\n",
       "0  6a602ec029c1f56c720043c565fc4a3c       2023-12-02  playground prime   \n",
       "1  6a602ec029c1f56c720043c565fc4a3c       2023-12-02  playground prime   \n",
       "2  6a602ec029c1f56c720043c565fc4a3c       2023-12-02  playground prime   \n",
       "3  6a602ec029c1f56c720043c565fc4a3c       2023-12-02  playground prime   \n",
       "4  6a602ec029c1f56c720043c565fc4a3c       2024-01-20  playground prime   \n",
       "\n",
       "  video_type        genre  watched_videos  has_converted       trial_brand  \\\n",
       "0         tv       comedy               4          False  playground prime   \n",
       "1         tv  documentary               1          False  playground prime   \n",
       "2         tv  family/kids               5          False  playground prime   \n",
       "3         tv        scifi               5          False  playground prime   \n",
       "4         tv       comedy               1          False  playground prime   \n",
       "\n",
       "  month_trial_end month_interaction  \n",
       "0         2023-12           2023-12  \n",
       "1         2023-12           2023-12  \n",
       "2         2023-12           2023-12  \n",
       "3         2023-12           2023-12  \n",
       "4         2023-12           2024-01  "
      ]
     },
     "execution_count": 62,
     "metadata": {},
     "output_type": "execute_result"
    }
   ],
   "source": [
    "df.head()"
   ]
  },
  {
   "cell_type": "code",
   "execution_count": 63,
   "id": "79c875c8-9a82-4560-8449-0989d7530ffb",
   "metadata": {},
   "outputs": [
    {
     "data": {
      "text/plain": [
       "(206338, 10)"
      ]
     },
     "execution_count": 63,
     "metadata": {},
     "output_type": "execute_result"
    }
   ],
   "source": [
    "df.shape"
   ]
  },
  {
   "cell_type": "code",
   "execution_count": 64,
   "id": "630f8835-ccc6-4496-a9fa-bbdde79cebb6",
   "metadata": {},
   "outputs": [],
   "source": [
    "# Grouping the dataset by 'email_key' and 'trial_brand', summing the 'watched_videos' column\n",
    "aggregated_df = df.groupby(['email_key', 'trial_brand','has_converted'], as_index=False)['watched_videos'].sum()\n",
    "\n",
    "# Renaming the column to 'total_videos_watched' for clarity\n",
    "aggregated_df.rename(columns={'watched_videos': 'total_videos_watched'}, inplace=True)"
   ]
  },
  {
   "cell_type": "code",
   "execution_count": 65,
   "id": "b106d268-eca0-4494-b3bf-5c734a2ce670",
   "metadata": {},
   "outputs": [
    {
     "data": {
      "text/html": [
       "<div>\n",
       "<style scoped>\n",
       "    .dataframe tbody tr th:only-of-type {\n",
       "        vertical-align: middle;\n",
       "    }\n",
       "\n",
       "    .dataframe tbody tr th {\n",
       "        vertical-align: top;\n",
       "    }\n",
       "\n",
       "    .dataframe thead th {\n",
       "        text-align: right;\n",
       "    }\n",
       "</style>\n",
       "<table border=\"1\" class=\"dataframe\">\n",
       "  <thead>\n",
       "    <tr style=\"text-align: right;\">\n",
       "      <th></th>\n",
       "      <th>email_key</th>\n",
       "      <th>trial_brand</th>\n",
       "      <th>has_converted</th>\n",
       "      <th>total_videos_watched</th>\n",
       "    </tr>\n",
       "  </thead>\n",
       "  <tbody>\n",
       "    <tr>\n",
       "      <th>0</th>\n",
       "      <td>0001a7e7f27f087684ca6d660266e93e</td>\n",
       "      <td>playground prime</td>\n",
       "      <td>True</td>\n",
       "      <td>5</td>\n",
       "    </tr>\n",
       "    <tr>\n",
       "      <th>1</th>\n",
       "      <td>00029f800f7be37d4cb8cb625f357bb3</td>\n",
       "      <td>mosaic</td>\n",
       "      <td>False</td>\n",
       "      <td>5</td>\n",
       "    </tr>\n",
       "    <tr>\n",
       "      <th>2</th>\n",
       "      <td>0006ae6456717beae51887cee5dcc273</td>\n",
       "      <td>dare network</td>\n",
       "      <td>True</td>\n",
       "      <td>5</td>\n",
       "    </tr>\n",
       "    <tr>\n",
       "      <th>3</th>\n",
       "      <td>0007ad547773d7fc1fc9e8c6817275ef</td>\n",
       "      <td>dare network</td>\n",
       "      <td>True</td>\n",
       "      <td>17</td>\n",
       "    </tr>\n",
       "    <tr>\n",
       "      <th>4</th>\n",
       "      <td>0007afe622a794c3e1e2112167566907</td>\n",
       "      <td>playground prime</td>\n",
       "      <td>True</td>\n",
       "      <td>2</td>\n",
       "    </tr>\n",
       "  </tbody>\n",
       "</table>\n",
       "</div>"
      ],
      "text/plain": [
       "                          email_key       trial_brand  has_converted  \\\n",
       "0  0001a7e7f27f087684ca6d660266e93e  playground prime           True   \n",
       "1  00029f800f7be37d4cb8cb625f357bb3            mosaic          False   \n",
       "2  0006ae6456717beae51887cee5dcc273      dare network           True   \n",
       "3  0007ad547773d7fc1fc9e8c6817275ef      dare network           True   \n",
       "4  0007afe622a794c3e1e2112167566907  playground prime           True   \n",
       "\n",
       "   total_videos_watched  \n",
       "0                     5  \n",
       "1                     5  \n",
       "2                     5  \n",
       "3                    17  \n",
       "4                     2  "
      ]
     },
     "execution_count": 65,
     "metadata": {},
     "output_type": "execute_result"
    }
   ],
   "source": [
    "aggregated_df.head()"
   ]
  },
  {
   "cell_type": "code",
   "execution_count": 66,
   "id": "9f4afeff-e66c-4d47-b13a-acc828847ddd",
   "metadata": {},
   "outputs": [
    {
     "data": {
      "text/plain": [
       "(26372, 4)"
      ]
     },
     "execution_count": 66,
     "metadata": {},
     "output_type": "execute_result"
    }
   ],
   "source": [
    "aggregated_df.shape"
   ]
  },
  {
   "cell_type": "markdown",
   "id": "09e4f68a-7304-477d-880b-886801fbdc75",
   "metadata": {},
   "source": [
    "### Create Four Subsets"
   ]
  },
  {
   "cell_type": "code",
   "execution_count": 68,
   "id": "a4d4a5f2-c445-4b62-8767-680cbac0281e",
   "metadata": {},
   "outputs": [],
   "source": [
    "# 1. All converted users (all brands)\n",
    "converted_users = aggregated_df[aggregated_df['has_converted'] == True]\n",
    "\n",
    "# 2. All non-converted users (all brands)\n",
    "non_converted_users = aggregated_df[aggregated_df['has_converted'] == False]\n",
    "\n",
    "# 3. Converted users in Dare Network\n",
    "converted_dare_users = aggregated_df[(aggregated_df['has_converted'] == True) & (aggregated_df['trial_brand'] == 'dare network')]\n",
    "\n",
    "# 4. Non-converted users in Dare Network\n",
    "non_converted_dare_users = aggregated_df[(aggregated_df['has_converted'] == False) & (aggregated_df['trial_brand'] == 'dare network')]"
   ]
  },
  {
   "cell_type": "markdown",
   "id": "5aa3bc4f-45f2-4064-9c35-ad2a85e93828",
   "metadata": {},
   "source": [
    "### Checking All Subsets"
   ]
  },
  {
   "cell_type": "code",
   "execution_count": 70,
   "id": "8b3220da-f899-4092-8631-717880bcb721",
   "metadata": {
    "scrolled": true
   },
   "outputs": [
    {
     "data": {
      "text/html": [
       "<div>\n",
       "<style scoped>\n",
       "    .dataframe tbody tr th:only-of-type {\n",
       "        vertical-align: middle;\n",
       "    }\n",
       "\n",
       "    .dataframe tbody tr th {\n",
       "        vertical-align: top;\n",
       "    }\n",
       "\n",
       "    .dataframe thead th {\n",
       "        text-align: right;\n",
       "    }\n",
       "</style>\n",
       "<table border=\"1\" class=\"dataframe\">\n",
       "  <thead>\n",
       "    <tr style=\"text-align: right;\">\n",
       "      <th></th>\n",
       "      <th>email_key</th>\n",
       "      <th>trial_brand</th>\n",
       "      <th>has_converted</th>\n",
       "      <th>total_videos_watched</th>\n",
       "    </tr>\n",
       "  </thead>\n",
       "  <tbody>\n",
       "    <tr>\n",
       "      <th>0</th>\n",
       "      <td>0001a7e7f27f087684ca6d660266e93e</td>\n",
       "      <td>playground prime</td>\n",
       "      <td>True</td>\n",
       "      <td>5</td>\n",
       "    </tr>\n",
       "    <tr>\n",
       "      <th>2</th>\n",
       "      <td>0006ae6456717beae51887cee5dcc273</td>\n",
       "      <td>dare network</td>\n",
       "      <td>True</td>\n",
       "      <td>5</td>\n",
       "    </tr>\n",
       "    <tr>\n",
       "      <th>3</th>\n",
       "      <td>0007ad547773d7fc1fc9e8c6817275ef</td>\n",
       "      <td>dare network</td>\n",
       "      <td>True</td>\n",
       "      <td>17</td>\n",
       "    </tr>\n",
       "    <tr>\n",
       "      <th>4</th>\n",
       "      <td>0007afe622a794c3e1e2112167566907</td>\n",
       "      <td>playground prime</td>\n",
       "      <td>True</td>\n",
       "      <td>2</td>\n",
       "    </tr>\n",
       "    <tr>\n",
       "      <th>5</th>\n",
       "      <td>000ca09695229a61fad8e27766f81743</td>\n",
       "      <td>mosaic</td>\n",
       "      <td>True</td>\n",
       "      <td>1</td>\n",
       "    </tr>\n",
       "  </tbody>\n",
       "</table>\n",
       "</div>"
      ],
      "text/plain": [
       "                          email_key       trial_brand  has_converted  \\\n",
       "0  0001a7e7f27f087684ca6d660266e93e  playground prime           True   \n",
       "2  0006ae6456717beae51887cee5dcc273      dare network           True   \n",
       "3  0007ad547773d7fc1fc9e8c6817275ef      dare network           True   \n",
       "4  0007afe622a794c3e1e2112167566907  playground prime           True   \n",
       "5  000ca09695229a61fad8e27766f81743            mosaic           True   \n",
       "\n",
       "   total_videos_watched  \n",
       "0                     5  \n",
       "2                     5  \n",
       "3                    17  \n",
       "4                     2  \n",
       "5                     1  "
      ]
     },
     "execution_count": 70,
     "metadata": {},
     "output_type": "execute_result"
    }
   ],
   "source": [
    "converted_users.head()"
   ]
  },
  {
   "cell_type": "code",
   "execution_count": 71,
   "id": "51738450-86ca-4ebe-b86a-b0313a4db9d2",
   "metadata": {},
   "outputs": [
    {
     "data": {
      "text/html": [
       "<div>\n",
       "<style scoped>\n",
       "    .dataframe tbody tr th:only-of-type {\n",
       "        vertical-align: middle;\n",
       "    }\n",
       "\n",
       "    .dataframe tbody tr th {\n",
       "        vertical-align: top;\n",
       "    }\n",
       "\n",
       "    .dataframe thead th {\n",
       "        text-align: right;\n",
       "    }\n",
       "</style>\n",
       "<table border=\"1\" class=\"dataframe\">\n",
       "  <thead>\n",
       "    <tr style=\"text-align: right;\">\n",
       "      <th></th>\n",
       "      <th>total_videos_watched</th>\n",
       "    </tr>\n",
       "  </thead>\n",
       "  <tbody>\n",
       "    <tr>\n",
       "      <th>count</th>\n",
       "      <td>20137.000000</td>\n",
       "    </tr>\n",
       "    <tr>\n",
       "      <th>mean</th>\n",
       "      <td>13.745742</td>\n",
       "    </tr>\n",
       "    <tr>\n",
       "      <th>std</th>\n",
       "      <td>26.508365</td>\n",
       "    </tr>\n",
       "    <tr>\n",
       "      <th>min</th>\n",
       "      <td>1.000000</td>\n",
       "    </tr>\n",
       "    <tr>\n",
       "      <th>25%</th>\n",
       "      <td>2.000000</td>\n",
       "    </tr>\n",
       "    <tr>\n",
       "      <th>50%</th>\n",
       "      <td>6.000000</td>\n",
       "    </tr>\n",
       "    <tr>\n",
       "      <th>75%</th>\n",
       "      <td>14.000000</td>\n",
       "    </tr>\n",
       "    <tr>\n",
       "      <th>max</th>\n",
       "      <td>604.000000</td>\n",
       "    </tr>\n",
       "  </tbody>\n",
       "</table>\n",
       "</div>"
      ],
      "text/plain": [
       "       total_videos_watched\n",
       "count          20137.000000\n",
       "mean              13.745742\n",
       "std               26.508365\n",
       "min                1.000000\n",
       "25%                2.000000\n",
       "50%                6.000000\n",
       "75%               14.000000\n",
       "max              604.000000"
      ]
     },
     "execution_count": 71,
     "metadata": {},
     "output_type": "execute_result"
    }
   ],
   "source": [
    "converted_users.describe()"
   ]
  },
  {
   "cell_type": "code",
   "execution_count": 72,
   "id": "52c4d437-fa64-4ac5-9468-8e2eff344e80",
   "metadata": {},
   "outputs": [
    {
     "data": {
      "text/html": [
       "<div>\n",
       "<style scoped>\n",
       "    .dataframe tbody tr th:only-of-type {\n",
       "        vertical-align: middle;\n",
       "    }\n",
       "\n",
       "    .dataframe tbody tr th {\n",
       "        vertical-align: top;\n",
       "    }\n",
       "\n",
       "    .dataframe thead th {\n",
       "        text-align: right;\n",
       "    }\n",
       "</style>\n",
       "<table border=\"1\" class=\"dataframe\">\n",
       "  <thead>\n",
       "    <tr style=\"text-align: right;\">\n",
       "      <th></th>\n",
       "      <th>email_key</th>\n",
       "      <th>trial_brand</th>\n",
       "      <th>has_converted</th>\n",
       "      <th>total_videos_watched</th>\n",
       "    </tr>\n",
       "  </thead>\n",
       "  <tbody>\n",
       "    <tr>\n",
       "      <th>1</th>\n",
       "      <td>00029f800f7be37d4cb8cb625f357bb3</td>\n",
       "      <td>mosaic</td>\n",
       "      <td>False</td>\n",
       "      <td>5</td>\n",
       "    </tr>\n",
       "    <tr>\n",
       "      <th>7</th>\n",
       "      <td>000e3872566a22b9d19aa10f4c4bb11f</td>\n",
       "      <td>dare network</td>\n",
       "      <td>False</td>\n",
       "      <td>3</td>\n",
       "    </tr>\n",
       "    <tr>\n",
       "      <th>13</th>\n",
       "      <td>0017aa9849bb44ff8b3e86ed618d3b60</td>\n",
       "      <td>dare network</td>\n",
       "      <td>False</td>\n",
       "      <td>7</td>\n",
       "    </tr>\n",
       "    <tr>\n",
       "      <th>17</th>\n",
       "      <td>0024fcc7e53d3d8cf676862e0956e4f1</td>\n",
       "      <td>dare network</td>\n",
       "      <td>False</td>\n",
       "      <td>7</td>\n",
       "    </tr>\n",
       "    <tr>\n",
       "      <th>35</th>\n",
       "      <td>004c4e319394c574ddb5da9c1a92b076</td>\n",
       "      <td>dare network</td>\n",
       "      <td>False</td>\n",
       "      <td>2</td>\n",
       "    </tr>\n",
       "  </tbody>\n",
       "</table>\n",
       "</div>"
      ],
      "text/plain": [
       "                           email_key   trial_brand  has_converted  \\\n",
       "1   00029f800f7be37d4cb8cb625f357bb3        mosaic          False   \n",
       "7   000e3872566a22b9d19aa10f4c4bb11f  dare network          False   \n",
       "13  0017aa9849bb44ff8b3e86ed618d3b60  dare network          False   \n",
       "17  0024fcc7e53d3d8cf676862e0956e4f1  dare network          False   \n",
       "35  004c4e319394c574ddb5da9c1a92b076  dare network          False   \n",
       "\n",
       "    total_videos_watched  \n",
       "1                      5  \n",
       "7                      3  \n",
       "13                     7  \n",
       "17                     7  \n",
       "35                     2  "
      ]
     },
     "execution_count": 72,
     "metadata": {},
     "output_type": "execute_result"
    }
   ],
   "source": [
    "non_converted_users.head()"
   ]
  },
  {
   "cell_type": "code",
   "execution_count": 73,
   "id": "be94a943-3616-4f8a-96be-8692889dea4c",
   "metadata": {},
   "outputs": [
    {
     "data": {
      "text/html": [
       "<div>\n",
       "<style scoped>\n",
       "    .dataframe tbody tr th:only-of-type {\n",
       "        vertical-align: middle;\n",
       "    }\n",
       "\n",
       "    .dataframe tbody tr th {\n",
       "        vertical-align: top;\n",
       "    }\n",
       "\n",
       "    .dataframe thead th {\n",
       "        text-align: right;\n",
       "    }\n",
       "</style>\n",
       "<table border=\"1\" class=\"dataframe\">\n",
       "  <thead>\n",
       "    <tr style=\"text-align: right;\">\n",
       "      <th></th>\n",
       "      <th>total_videos_watched</th>\n",
       "    </tr>\n",
       "  </thead>\n",
       "  <tbody>\n",
       "    <tr>\n",
       "      <th>count</th>\n",
       "      <td>6235.000000</td>\n",
       "    </tr>\n",
       "    <tr>\n",
       "      <th>mean</th>\n",
       "      <td>7.465597</td>\n",
       "    </tr>\n",
       "    <tr>\n",
       "      <th>std</th>\n",
       "      <td>16.141435</td>\n",
       "    </tr>\n",
       "    <tr>\n",
       "      <th>min</th>\n",
       "      <td>1.000000</td>\n",
       "    </tr>\n",
       "    <tr>\n",
       "      <th>25%</th>\n",
       "      <td>2.000000</td>\n",
       "    </tr>\n",
       "    <tr>\n",
       "      <th>50%</th>\n",
       "      <td>3.000000</td>\n",
       "    </tr>\n",
       "    <tr>\n",
       "      <th>75%</th>\n",
       "      <td>7.000000</td>\n",
       "    </tr>\n",
       "    <tr>\n",
       "      <th>max</th>\n",
       "      <td>440.000000</td>\n",
       "    </tr>\n",
       "  </tbody>\n",
       "</table>\n",
       "</div>"
      ],
      "text/plain": [
       "       total_videos_watched\n",
       "count           6235.000000\n",
       "mean               7.465597\n",
       "std               16.141435\n",
       "min                1.000000\n",
       "25%                2.000000\n",
       "50%                3.000000\n",
       "75%                7.000000\n",
       "max              440.000000"
      ]
     },
     "execution_count": 73,
     "metadata": {},
     "output_type": "execute_result"
    }
   ],
   "source": [
    "non_converted_users.describe()"
   ]
  },
  {
   "cell_type": "code",
   "execution_count": 74,
   "id": "35b5cad7-1825-48da-8bf6-95c028eaa00a",
   "metadata": {},
   "outputs": [
    {
     "data": {
      "text/html": [
       "<div>\n",
       "<style scoped>\n",
       "    .dataframe tbody tr th:only-of-type {\n",
       "        vertical-align: middle;\n",
       "    }\n",
       "\n",
       "    .dataframe tbody tr th {\n",
       "        vertical-align: top;\n",
       "    }\n",
       "\n",
       "    .dataframe thead th {\n",
       "        text-align: right;\n",
       "    }\n",
       "</style>\n",
       "<table border=\"1\" class=\"dataframe\">\n",
       "  <thead>\n",
       "    <tr style=\"text-align: right;\">\n",
       "      <th></th>\n",
       "      <th>email_key</th>\n",
       "      <th>trial_brand</th>\n",
       "      <th>has_converted</th>\n",
       "      <th>total_videos_watched</th>\n",
       "    </tr>\n",
       "  </thead>\n",
       "  <tbody>\n",
       "    <tr>\n",
       "      <th>2</th>\n",
       "      <td>0006ae6456717beae51887cee5dcc273</td>\n",
       "      <td>dare network</td>\n",
       "      <td>True</td>\n",
       "      <td>5</td>\n",
       "    </tr>\n",
       "    <tr>\n",
       "      <th>3</th>\n",
       "      <td>0007ad547773d7fc1fc9e8c6817275ef</td>\n",
       "      <td>dare network</td>\n",
       "      <td>True</td>\n",
       "      <td>17</td>\n",
       "    </tr>\n",
       "    <tr>\n",
       "      <th>6</th>\n",
       "      <td>000d53c4a7320daa4546688f7bccad72</td>\n",
       "      <td>dare network</td>\n",
       "      <td>True</td>\n",
       "      <td>7</td>\n",
       "    </tr>\n",
       "    <tr>\n",
       "      <th>8</th>\n",
       "      <td>0015c6641fb86250d95cbd8aeb93fe47</td>\n",
       "      <td>dare network</td>\n",
       "      <td>True</td>\n",
       "      <td>7</td>\n",
       "    </tr>\n",
       "    <tr>\n",
       "      <th>9</th>\n",
       "      <td>0016743456d6c1cb9a27df2c45f8b566</td>\n",
       "      <td>dare network</td>\n",
       "      <td>True</td>\n",
       "      <td>7</td>\n",
       "    </tr>\n",
       "  </tbody>\n",
       "</table>\n",
       "</div>"
      ],
      "text/plain": [
       "                          email_key   trial_brand  has_converted  \\\n",
       "2  0006ae6456717beae51887cee5dcc273  dare network           True   \n",
       "3  0007ad547773d7fc1fc9e8c6817275ef  dare network           True   \n",
       "6  000d53c4a7320daa4546688f7bccad72  dare network           True   \n",
       "8  0015c6641fb86250d95cbd8aeb93fe47  dare network           True   \n",
       "9  0016743456d6c1cb9a27df2c45f8b566  dare network           True   \n",
       "\n",
       "   total_videos_watched  \n",
       "2                     5  \n",
       "3                    17  \n",
       "6                     7  \n",
       "8                     7  \n",
       "9                     7  "
      ]
     },
     "execution_count": 74,
     "metadata": {},
     "output_type": "execute_result"
    }
   ],
   "source": [
    "converted_dare_users.head()"
   ]
  },
  {
   "cell_type": "code",
   "execution_count": 75,
   "id": "031c67dd-a379-4181-a5a2-217b3d8807d2",
   "metadata": {},
   "outputs": [
    {
     "data": {
      "text/html": [
       "<div>\n",
       "<style scoped>\n",
       "    .dataframe tbody tr th:only-of-type {\n",
       "        vertical-align: middle;\n",
       "    }\n",
       "\n",
       "    .dataframe tbody tr th {\n",
       "        vertical-align: top;\n",
       "    }\n",
       "\n",
       "    .dataframe thead th {\n",
       "        text-align: right;\n",
       "    }\n",
       "</style>\n",
       "<table border=\"1\" class=\"dataframe\">\n",
       "  <thead>\n",
       "    <tr style=\"text-align: right;\">\n",
       "      <th></th>\n",
       "      <th>total_videos_watched</th>\n",
       "    </tr>\n",
       "  </thead>\n",
       "  <tbody>\n",
       "    <tr>\n",
       "      <th>count</th>\n",
       "      <td>11992.000000</td>\n",
       "    </tr>\n",
       "    <tr>\n",
       "      <th>mean</th>\n",
       "      <td>16.259590</td>\n",
       "    </tr>\n",
       "    <tr>\n",
       "      <th>std</th>\n",
       "      <td>30.250737</td>\n",
       "    </tr>\n",
       "    <tr>\n",
       "      <th>min</th>\n",
       "      <td>1.000000</td>\n",
       "    </tr>\n",
       "    <tr>\n",
       "      <th>25%</th>\n",
       "      <td>3.000000</td>\n",
       "    </tr>\n",
       "    <tr>\n",
       "      <th>50%</th>\n",
       "      <td>7.000000</td>\n",
       "    </tr>\n",
       "    <tr>\n",
       "      <th>75%</th>\n",
       "      <td>17.000000</td>\n",
       "    </tr>\n",
       "    <tr>\n",
       "      <th>max</th>\n",
       "      <td>604.000000</td>\n",
       "    </tr>\n",
       "  </tbody>\n",
       "</table>\n",
       "</div>"
      ],
      "text/plain": [
       "       total_videos_watched\n",
       "count          11992.000000\n",
       "mean              16.259590\n",
       "std               30.250737\n",
       "min                1.000000\n",
       "25%                3.000000\n",
       "50%                7.000000\n",
       "75%               17.000000\n",
       "max              604.000000"
      ]
     },
     "execution_count": 75,
     "metadata": {},
     "output_type": "execute_result"
    }
   ],
   "source": [
    "converted_dare_users.describe()"
   ]
  },
  {
   "cell_type": "code",
   "execution_count": 76,
   "id": "45c787ff-2555-4087-81cd-6c99e4426b72",
   "metadata": {},
   "outputs": [
    {
     "data": {
      "text/html": [
       "<div>\n",
       "<style scoped>\n",
       "    .dataframe tbody tr th:only-of-type {\n",
       "        vertical-align: middle;\n",
       "    }\n",
       "\n",
       "    .dataframe tbody tr th {\n",
       "        vertical-align: top;\n",
       "    }\n",
       "\n",
       "    .dataframe thead th {\n",
       "        text-align: right;\n",
       "    }\n",
       "</style>\n",
       "<table border=\"1\" class=\"dataframe\">\n",
       "  <thead>\n",
       "    <tr style=\"text-align: right;\">\n",
       "      <th></th>\n",
       "      <th>email_key</th>\n",
       "      <th>trial_brand</th>\n",
       "      <th>has_converted</th>\n",
       "      <th>total_videos_watched</th>\n",
       "    </tr>\n",
       "  </thead>\n",
       "  <tbody>\n",
       "    <tr>\n",
       "      <th>7</th>\n",
       "      <td>000e3872566a22b9d19aa10f4c4bb11f</td>\n",
       "      <td>dare network</td>\n",
       "      <td>False</td>\n",
       "      <td>3</td>\n",
       "    </tr>\n",
       "    <tr>\n",
       "      <th>13</th>\n",
       "      <td>0017aa9849bb44ff8b3e86ed618d3b60</td>\n",
       "      <td>dare network</td>\n",
       "      <td>False</td>\n",
       "      <td>7</td>\n",
       "    </tr>\n",
       "    <tr>\n",
       "      <th>17</th>\n",
       "      <td>0024fcc7e53d3d8cf676862e0956e4f1</td>\n",
       "      <td>dare network</td>\n",
       "      <td>False</td>\n",
       "      <td>7</td>\n",
       "    </tr>\n",
       "    <tr>\n",
       "      <th>35</th>\n",
       "      <td>004c4e319394c574ddb5da9c1a92b076</td>\n",
       "      <td>dare network</td>\n",
       "      <td>False</td>\n",
       "      <td>2</td>\n",
       "    </tr>\n",
       "    <tr>\n",
       "      <th>42</th>\n",
       "      <td>005830ae974108932a1fafa5bee7d3bb</td>\n",
       "      <td>dare network</td>\n",
       "      <td>False</td>\n",
       "      <td>21</td>\n",
       "    </tr>\n",
       "  </tbody>\n",
       "</table>\n",
       "</div>"
      ],
      "text/plain": [
       "                           email_key   trial_brand  has_converted  \\\n",
       "7   000e3872566a22b9d19aa10f4c4bb11f  dare network          False   \n",
       "13  0017aa9849bb44ff8b3e86ed618d3b60  dare network          False   \n",
       "17  0024fcc7e53d3d8cf676862e0956e4f1  dare network          False   \n",
       "35  004c4e319394c574ddb5da9c1a92b076  dare network          False   \n",
       "42  005830ae974108932a1fafa5bee7d3bb  dare network          False   \n",
       "\n",
       "    total_videos_watched  \n",
       "7                      3  \n",
       "13                     7  \n",
       "17                     7  \n",
       "35                     2  \n",
       "42                    21  "
      ]
     },
     "execution_count": 76,
     "metadata": {},
     "output_type": "execute_result"
    }
   ],
   "source": [
    "non_converted_dare_users.head()"
   ]
  },
  {
   "cell_type": "code",
   "execution_count": 77,
   "id": "3f67ea93-4117-46cb-a952-70097e5447bb",
   "metadata": {},
   "outputs": [
    {
     "data": {
      "text/html": [
       "<div>\n",
       "<style scoped>\n",
       "    .dataframe tbody tr th:only-of-type {\n",
       "        vertical-align: middle;\n",
       "    }\n",
       "\n",
       "    .dataframe tbody tr th {\n",
       "        vertical-align: top;\n",
       "    }\n",
       "\n",
       "    .dataframe thead th {\n",
       "        text-align: right;\n",
       "    }\n",
       "</style>\n",
       "<table border=\"1\" class=\"dataframe\">\n",
       "  <thead>\n",
       "    <tr style=\"text-align: right;\">\n",
       "      <th></th>\n",
       "      <th>total_videos_watched</th>\n",
       "    </tr>\n",
       "  </thead>\n",
       "  <tbody>\n",
       "    <tr>\n",
       "      <th>count</th>\n",
       "      <td>3254.000000</td>\n",
       "    </tr>\n",
       "    <tr>\n",
       "      <th>mean</th>\n",
       "      <td>8.766749</td>\n",
       "    </tr>\n",
       "    <tr>\n",
       "      <th>std</th>\n",
       "      <td>18.600397</td>\n",
       "    </tr>\n",
       "    <tr>\n",
       "      <th>min</th>\n",
       "      <td>1.000000</td>\n",
       "    </tr>\n",
       "    <tr>\n",
       "      <th>25%</th>\n",
       "      <td>2.000000</td>\n",
       "    </tr>\n",
       "    <tr>\n",
       "      <th>50%</th>\n",
       "      <td>4.000000</td>\n",
       "    </tr>\n",
       "    <tr>\n",
       "      <th>75%</th>\n",
       "      <td>8.000000</td>\n",
       "    </tr>\n",
       "    <tr>\n",
       "      <th>max</th>\n",
       "      <td>308.000000</td>\n",
       "    </tr>\n",
       "  </tbody>\n",
       "</table>\n",
       "</div>"
      ],
      "text/plain": [
       "       total_videos_watched\n",
       "count           3254.000000\n",
       "mean               8.766749\n",
       "std               18.600397\n",
       "min                1.000000\n",
       "25%                2.000000\n",
       "50%                4.000000\n",
       "75%                8.000000\n",
       "max              308.000000"
      ]
     },
     "execution_count": 77,
     "metadata": {},
     "output_type": "execute_result"
    }
   ],
   "source": [
    "non_converted_dare_users.describe()"
   ]
  },
  {
   "cell_type": "code",
   "execution_count": 78,
   "id": "8cc65e69-8247-41cb-8199-88abffc8d955",
   "metadata": {},
   "outputs": [
    {
     "data": {
      "image/png": "[encoded data removed]",
      "text/plain": [
       "<Figure size 1200x600 with 1 Axes>"
      ]
     },
     "metadata": {},
     "output_type": "display_data"
    }
   ],
   "source": [
    "# Boxplot for general users (all brands)\n",
    "plt.figure(figsize=(12, 6))\n",
    "sns.boxplot(data=aggregated_df, x='has_converted', y='total_videos_watched', hue='trial_brand')\n",
    "plt.title('Distribution of Total Videos Watched (Converted vs Non-Converted Users)', fontsize=20)\n",
    "plt.xlabel('Converted Status (0 = Non-Converted, 1 = Converted)')\n",
    "plt.ylabel('Total Videos Watched')\n",
    "plt.legend(title='Brand')\n",
    "\n",
    "# Save the plot to the 'visualizations' subfolder\n",
    "plt.tight_layout()\n",
    "plt.savefig('visualizations/box_plot_all.png')\n",
    "plt.show()"
   ]
  },
  {
   "cell_type": "code",
   "execution_count": 79,
   "id": "868ac66f-0c06-42c6-81c1-98d4a859c276",
   "metadata": {},
   "outputs": [
    {
     "data": {
      "image/png": "[encoded data removed]",
      "text/plain": [
       "<Figure size 1200x600 with 1 Axes>"
      ]
     },
     "metadata": {},
     "output_type": "display_data"
    }
   ],
   "source": [
    "# Boxplot for Dare Network only\n",
    "plt.figure(figsize=(12, 6))\n",
    "sns.boxplot(data=aggregated_df[aggregated_df['trial_brand'] == 'dare network'], x='has_converted', y='total_videos_watched')\n",
    "plt.title('Distribution of Total Videos Watched (Dare Network Only)')\n",
    "plt.xlabel('Converted Status (0 = Non-Converted, 1 = Converted)')\n",
    "plt.ylabel('Total Videos Watched')\n",
    "\n",
    "# Save the plot to the 'visualizations' subfolder\n",
    "plt.tight_layout()\n",
    "plt.savefig('visualizations/box_plot_dare.png')\n",
    "plt.show()"
   ]
  },
  {
   "cell_type": "code",
   "execution_count": 80,
   "id": "292ec7f1-32dc-492c-8785-5e3a5a0526a3",
   "metadata": {},
   "outputs": [
    {
     "data": {
      "image/png": "[encoded data removed]",
      "text/plain": [
       "<Figure size 1200x600 with 1 Axes>"
      ]
     },
     "metadata": {},
     "output_type": "display_data"
    }
   ],
   "source": [
    "# Boxplot for general users (all brands) with adjusted y-axis\n",
    "plt.figure(figsize=(12, 6))\n",
    "sns.boxplot(data=aggregated_df, x='has_converted', y='total_videos_watched', hue='trial_brand')\n",
    "plt.ylim(0, 50)  # Adjust the upper limit based on your data for better clarity\n",
    "plt.title('Distribution of Total Videos Watched (Zoomed In)', fontsize=20)\n",
    "plt.xlabel('Converted Status (0 = Non-Converted, 1 = Converted)')\n",
    "plt.ylabel('Total Videos Watched')\n",
    "plt.legend(title='Brand')\n",
    "\n",
    "# Save the plot to the 'visualizations' subfolder\n",
    "plt.tight_layout()\n",
    "plt.savefig('visualizations/box_plot_all_adjust_outliers.png')\n",
    "plt.show()"
   ]
  },
  {
   "cell_type": "markdown",
   "id": "8531171e-087f-403a-b458-abba5b6fd5e8",
   "metadata": {},
   "source": [
    "### T Testing by User Engagement (Number of Videos Watched)"
   ]
  },
  {
   "cell_type": "code",
   "execution_count": 82,
   "id": "35948279-108b-4572-81c6-dfe7deae97c0",
   "metadata": {},
   "outputs": [],
   "source": [
    "# Perform the one-tailed t-test by calculating a two-tailed t-test first and adjusting the p-value\n",
    "t_stat, p_value = stats.ttest_ind(\n",
    "    converted_users['total_videos_watched'],\n",
    "    non_converted_users['total_videos_watched'],\n",
    "    equal_var=False  # Use Welch’s t-test for unequal variances\n",
    ")"
   ]
  },
  {
   "cell_type": "code",
   "execution_count": 83,
   "id": "82f66377-d7e9-4931-aa64-85b936b6b9b3",
   "metadata": {},
   "outputs": [],
   "source": [
    "# Convert the p-value to a one-tailed p-value\n",
    "one_tailed_p_value = p_value / 2"
   ]
  },
  {
   "cell_type": "code",
   "execution_count": 84,
   "id": "d8f1efbe-b676-4002-9707-8fc3f0ea34d6",
   "metadata": {},
   "outputs": [
    {
     "name": "stdout",
     "output_type": "stream",
     "text": [
      "T-statistic: 22.678759335177933\n",
      "One-tailed P-value: 1.5758364077082152e-112\n"
     ]
    }
   ],
   "source": [
    "# Print the results\n",
    "print(f\"T-statistic: {t_stat}\")\n",
    "print(f\"One-tailed P-value: {one_tailed_p_value}\")"
   ]
  },
  {
   "cell_type": "code",
   "execution_count": 85,
   "id": "cdd5ba37-cd4e-4a33-9e5c-668b9159d103",
   "metadata": {},
   "outputs": [
    {
     "name": "stdout",
     "output_type": "stream",
     "text": [
      "Reject the null hypothesis: Converted users watch significantly more videos than non-converted users.\n"
     ]
    }
   ],
   "source": [
    "# Interpret the one-tailed test result\n",
    "if one_tailed_p_value < 0.05 and t_stat > 0:\n",
    "    print(\"Reject the null hypothesis: Converted users watch significantly more videos than non-converted users.\")\n",
    "else:\n",
    "    print(\"Fail to reject the null hypothesis: There is no significant evidence that converted users watch more videos.\")"
   ]
  },
  {
   "cell_type": "code",
   "execution_count": null,
   "id": "a1fe49d7-e26a-4446-8b43-a0041634a08d",
   "metadata": {},
   "outputs": [],
   "source": []
  }
 ],
 "metadata": {
  "kernelspec": {
   "display_name": "Python [conda env:base] *",
   "language": "python",
   "name": "conda-base-py"
  },
  "language_info": {
   "codemirror_mode": {
    "name": "ipython",
    "version": 3
   },
   "file_extension": ".py",
   "mimetype": "text/x-python",
   "name": "python",
   "nbconvert_exporter": "python",
   "pygments_lexer": "ipython3",
   "version": "3.11.5"
  }
 },
 "nbformat": 4,
 "nbformat_minor": 5
}
